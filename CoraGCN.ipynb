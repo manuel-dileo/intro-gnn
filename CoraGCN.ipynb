{
 "cells": [
  {
   "cell_type": "code",
   "execution_count": 1,
   "id": "a4efe444",
   "metadata": {},
   "outputs": [],
   "source": [
    "#!pip install torch=='1.9.0'\n",
    "#!pip install torch-scatter torch-sparse torch-cluster torch-spline-conv torch-geometric -f https://data.pyg.org/whl/torch-1.9.0+cu102.html"
   ]
  },
  {
   "cell_type": "markdown",
   "id": "ed0a7735",
   "metadata": {},
   "source": [
    "## Cora citation network"
   ]
  },
  {
   "cell_type": "markdown",
   "id": "16c6d0c3",
   "metadata": {},
   "source": [
    "To demonstrate, we make use of the `Cora` dataset, which is a **citation network** where nodes represent documents.\n",
    "Each node is described by a 1433-dimensional bag-of-words feature vector.\n",
    "Two documents are connected if there exists a citation link between them.  \n",
    "The task are:\n",
    "- Node classification: to infer the category of each document (7 in total).\n",
    "- Link prediction: to predict missing citations between documents.\n",
    "\n",
    "This dataset was first introduced by [Yang et al. (2016)](https://arxiv.org/abs/1603.08861) as one of the datasets of the `Planetoid` benchmark suite."
   ]
  },
  {
   "cell_type": "code",
   "execution_count": 2,
   "id": "76906d9a",
   "metadata": {
    "scrolled": true
   },
   "outputs": [
    {
     "name": "stdout",
     "output_type": "stream",
     "text": [
      "\n",
      "Dataset: Cora():\n",
      "======================\n",
      "Number of graphs: 1\n",
      "Number of features: 1433\n",
      "Number of classes: 7\n"
     ]
    }
   ],
   "source": [
    "import numpy as np\n",
    "\n",
    "import torch\n",
    "from torch_geometric.datasets import Planetoid\n",
    "\n",
    "dataset = Planetoid(root='data/Planetoid', name='Cora')\n",
    "\n",
    "print()\n",
    "print(f'Dataset: {dataset}:')\n",
    "print('======================')\n",
    "print(f'Number of graphs: {len(dataset)}')\n",
    "print(f'Number of features: {dataset.num_features}')\n",
    "print(f'Number of classes: {dataset.num_classes}')\n",
    "\n",
    "data = dataset[0]  # Get the first graph object"
   ]
  },
  {
   "cell_type": "code",
   "execution_count": 3,
   "id": "4e767381",
   "metadata": {},
   "outputs": [
    {
     "data": {
      "text/plain": [
       "Data(x=[2708, 1433], edge_index=[2, 10556], y=[2708], train_mask=[2708], val_mask=[2708], test_mask=[2708])"
      ]
     },
     "execution_count": 3,
     "metadata": {},
     "output_type": "execute_result"
    }
   ],
   "source": [
    "data"
   ]
  },
  {
   "cell_type": "code",
   "execution_count": 4,
   "id": "66f8328f",
   "metadata": {},
   "outputs": [],
   "source": [
    "# x : node feature matrix [#num_nodes, #num_features] \n",
    "# edge_index :  [#nodes_in_edge, #num_edges] e.g [[1,2],[3,4]] => (1,3), (2,4) in E\n",
    "# y : labels\n",
    "# train_mask, val_mask, test_mask : bit mask1"
   ]
  },
  {
   "cell_type": "markdown",
   "id": "b02af373",
   "metadata": {},
   "source": [
    "Data fields are not fixed, you can add/delete fields"
   ]
  },
  {
   "cell_type": "code",
   "execution_count": 5,
   "id": "c10f9de3",
   "metadata": {},
   "outputs": [
    {
     "data": {
      "text/plain": [
       "Data(x=[2708, 1433], edge_index=[2, 10556], y=[2708], train_mask=[2708], val_mask=[2708], test_mask=[2708], z=[2708])"
      ]
     },
     "execution_count": 5,
     "metadata": {},
     "output_type": "execute_result"
    }
   ],
   "source": [
    "data.z = torch.Tensor(np.array([0 for i in range(len(data.x))]))\n",
    "data"
   ]
  },
  {
   "cell_type": "code",
   "execution_count": 6,
   "id": "360bb9f1",
   "metadata": {},
   "outputs": [],
   "source": [
    "del(data.z)"
   ]
  },
  {
   "cell_type": "code",
   "execution_count": 7,
   "id": "3b23a6f9",
   "metadata": {},
   "outputs": [
    {
     "data": {
      "text/plain": [
       "Data(x=[2708, 1433], edge_index=[2, 10556], y=[2708], train_mask=[2708], val_mask=[2708], test_mask=[2708])"
      ]
     },
     "execution_count": 7,
     "metadata": {},
     "output_type": "execute_result"
    }
   ],
   "source": [
    "data"
   ]
  },
  {
   "cell_type": "markdown",
   "id": "b7c30dde",
   "metadata": {},
   "source": [
    "We delete masks to perform custom nodes split"
   ]
  },
  {
   "cell_type": "code",
   "execution_count": 8,
   "id": "212184ff",
   "metadata": {},
   "outputs": [],
   "source": [
    "del(data.train_mask)\n",
    "del(data.val_mask)\n",
    "del(data.test_mask)"
   ]
  },
  {
   "cell_type": "code",
   "execution_count": 9,
   "id": "63155157",
   "metadata": {},
   "outputs": [],
   "source": [
    "# 1 - Normalize features\n",
    "\n",
    "from torch_geometric.transforms import NormalizeFeatures\n",
    "\n",
    "transform = NormalizeFeatures() #Row-normalizes the attributes to sum-up to one\n",
    "data = transform(data)"
   ]
  },
  {
   "cell_type": "code",
   "execution_count": 10,
   "id": "d67b6542",
   "metadata": {},
   "outputs": [],
   "source": [
    "# 2 - Random Node Split\n",
    "\n",
    "from torch_geometric.transforms import RandomNodeSplit\n",
    "\n",
    "split = RandomNodeSplit(num_val=0.0,num_test=0.30)\n",
    "data = split(data)"
   ]
  },
  {
   "cell_type": "code",
   "execution_count": 11,
   "id": "624c494f",
   "metadata": {},
   "outputs": [
    {
     "name": "stdout",
     "output_type": "stream",
     "text": [
      "Data(x=[2708, 1433], edge_index=[2, 10556], y=[2708], train_mask=[2708], val_mask=[2708], test_mask=[2708])\n",
      "Training set rate: 0.70\n",
      "Validation set rate: 0.00\n",
      "Test set rate: 0.30\n"
     ]
    }
   ],
   "source": [
    "print(data)\n",
    "print(f'Training set rate: {int(data.train_mask.sum()) / data.num_nodes:.2f}')\n",
    "print(f'Validation set rate: {int(data.val_mask.sum()) / data.num_nodes:.2f}')\n",
    "print(f'Test set rate: {int(data.test_mask.sum()) / data.num_nodes:.2f}')"
   ]
  },
  {
   "cell_type": "markdown",
   "id": "456287be",
   "metadata": {},
   "source": [
    "## Load your own dataset"
   ]
  },
  {
   "cell_type": "markdown",
   "id": "02c7dd0a",
   "metadata": {},
   "source": [
    "Many options...  \n",
    "My favourite is use `from\\_networkx` util "
   ]
  },
  {
   "cell_type": "code",
   "execution_count": 12,
   "id": "90241a50",
   "metadata": {},
   "outputs": [],
   "source": [
    "import networkx as nx\n",
    "\n",
    "mouse = nx.read_edgelist('bn-mouse-kasthuri_graph_v4.edges')"
   ]
  },
  {
   "cell_type": "code",
   "execution_count": 13,
   "id": "2f1959af",
   "metadata": {},
   "outputs": [],
   "source": [
    "#Do everything you can on networkx (add attributes, compute features, remove self-loops / isolated nodes, ...)\n",
    "\n",
    "#Example: add degree as node feature\n",
    "deg = dict(mouse.degree())\n",
    "nx.set_node_attributes(mouse,deg,'degree')"
   ]
  },
  {
   "cell_type": "code",
   "execution_count": 14,
   "id": "f1d015ee",
   "metadata": {},
   "outputs": [],
   "source": [
    "from torch_geometric.utils import from_networkx\n",
    "\n",
    "mouse_data = from_networkx(mouse, group_node_attrs = all)"
   ]
  },
  {
   "cell_type": "code",
   "execution_count": 15,
   "id": "59e37661",
   "metadata": {},
   "outputs": [
    {
     "data": {
      "text/plain": [
       "Data(edge_index=[2, 3118], x=[1029, 1])"
      ]
     },
     "execution_count": 15,
     "metadata": {},
     "output_type": "execute_result"
    }
   ],
   "source": [
    "mouse_data"
   ]
  },
  {
   "cell_type": "markdown",
   "id": "1b8eecd1",
   "metadata": {},
   "source": [
    "#### No feature? No problem! Constant encoder"
   ]
  },
  {
   "cell_type": "code",
   "execution_count": 16,
   "id": "2ef467b1",
   "metadata": {},
   "outputs": [],
   "source": [
    "from torch_geometric.transforms import Constant\n",
    "\n",
    "constant = Constant(cat=False) #cat = False drop the other features\n",
    "mouse_data = constant(mouse_data)"
   ]
  },
  {
   "cell_type": "code",
   "execution_count": 17,
   "id": "d1452e06",
   "metadata": {},
   "outputs": [
    {
     "data": {
      "text/plain": [
       "tensor([[1.],\n",
       "        [1.],\n",
       "        [1.],\n",
       "        ...,\n",
       "        [1.],\n",
       "        [1.],\n",
       "        [1.]])"
      ]
     },
     "execution_count": 17,
     "metadata": {},
     "output_type": "execute_result"
    }
   ],
   "source": [
    "mouse_data.x"
   ]
  },
  {
   "cell_type": "markdown",
   "id": "76c9c0c1",
   "metadata": {},
   "source": [
    "#### Create your own dataset in PyG: https://pytorch-geometric.readthedocs.io/en/latest/modules/data.html#torch_geometric.data.Data"
   ]
  },
  {
   "cell_type": "markdown",
   "id": "4300685a",
   "metadata": {},
   "source": [
    "## GNN Model"
   ]
  },
  {
   "cell_type": "code",
   "execution_count": 18,
   "id": "706a87a6",
   "metadata": {},
   "outputs": [],
   "source": [
    "from torch_geometric.nn import GCNConv, Linear\n",
    "import torch.nn.functional as F"
   ]
  },
  {
   "cell_type": "code",
   "execution_count": 19,
   "id": "0b010d4d",
   "metadata": {},
   "outputs": [],
   "source": [
    "class CoraGCN(torch.nn.Module):\n",
    "    \n",
    "    def __init__(self):\n",
    "        super().__init__()\n",
    "        torch.manual_seed(1234567) #manual seed for reproducibility\n",
    "        \n",
    "        self.lin1 = Linear(dataset.num_features, 64) \n",
    "        self.lin2 = Linear(64, 32) #two MLP layers to preprocess the BoW\n",
    "        self.conv1 = GCNConv(32, 16) \n",
    "        self.conv2 = GCNConv(16, dataset.num_classes) #two GCNConv to compute embeddings\n",
    "        \n",
    "    def reset_parameters(self):\n",
    "        self.lin1.reset_parameters()\n",
    "        self.lin2.reset_parameters()\n",
    "        self.conv1.reset_parameters()\n",
    "        self.conv2.reset_parameters()\n",
    "\n",
    "    def forward(self, x, edge_index):\n",
    "        #x : node feature matrix, edge_index : structure of the graph\n",
    "        x = self.lin1(x)\n",
    "        x = x.relu()\n",
    "        x = F.dropout(x, p=0.25, training=self.training)\n",
    "        \n",
    "        x = self.lin2(x)\n",
    "        x = x.relu()\n",
    "        x = F.dropout(x, p=0.25, training=self.training)\n",
    "        \n",
    "        x = self.conv1(x, edge_index)\n",
    "        x = x.relu()\n",
    "        x = F.dropout(x, p=0.25, training=self.training)\n",
    "        \n",
    "        x = self.conv2(x, edge_index)\n",
    "        \n",
    "        return x"
   ]
  },
  {
   "cell_type": "markdown",
   "id": "4a05b40e",
   "metadata": {},
   "source": [
    "### Training"
   ]
  },
  {
   "cell_type": "code",
   "execution_count": 20,
   "id": "c37ac895",
   "metadata": {},
   "outputs": [],
   "source": [
    "model = CoraGCN()\n",
    "model.reset_parameters()"
   ]
  },
  {
   "cell_type": "code",
   "execution_count": 21,
   "id": "44c0da44",
   "metadata": {},
   "outputs": [
    {
     "data": {
      "text/plain": [
       "CoraGCN(\n",
       "  (lin1): Linear(1433, 64, bias=True)\n",
       "  (lin2): Linear(64, 32, bias=True)\n",
       "  (conv1): GCNConv(32, 16)\n",
       "  (conv2): GCNConv(16, 7)\n",
       ")"
      ]
     },
     "execution_count": 21,
     "metadata": {},
     "output_type": "execute_result"
    }
   ],
   "source": [
    "model"
   ]
  },
  {
   "cell_type": "markdown",
   "id": "1a23930c",
   "metadata": {},
   "source": [
    "<img src=\"CoraGCN.png\" alt=\"nodepred_gcn\" width=\"500\"/>"
   ]
  },
  {
   "cell_type": "code",
   "execution_count": 22,
   "id": "f788cb91",
   "metadata": {},
   "outputs": [
    {
     "name": "stdout",
     "output_type": "stream",
     "text": [
      "Epoch: 001, Loss: 1.9420\n",
      "Epoch: 002, Loss: 1.9295\n",
      "Epoch: 003, Loss: 1.9190\n",
      "Epoch: 004, Loss: 1.9057\n",
      "Epoch: 005, Loss: 1.8897\n",
      "Epoch: 006, Loss: 1.8754\n",
      "Epoch: 007, Loss: 1.8643\n",
      "Epoch: 008, Loss: 1.8368\n",
      "Epoch: 009, Loss: 1.8308\n",
      "Epoch: 010, Loss: 1.8180\n",
      "Epoch: 011, Loss: 1.8078\n",
      "Epoch: 012, Loss: 1.8009\n",
      "Epoch: 013, Loss: 1.7840\n",
      "Epoch: 014, Loss: 1.7701\n",
      "Epoch: 015, Loss: 1.7378\n",
      "Epoch: 016, Loss: 1.7167\n",
      "Epoch: 017, Loss: 1.6829\n",
      "Epoch: 018, Loss: 1.6561\n",
      "Epoch: 019, Loss: 1.6316\n",
      "Epoch: 020, Loss: 1.5937\n",
      "Epoch: 021, Loss: 1.5736\n",
      "Epoch: 022, Loss: 1.5337\n",
      "Epoch: 023, Loss: 1.5149\n",
      "Epoch: 024, Loss: 1.4935\n",
      "Epoch: 025, Loss: 1.4746\n",
      "Epoch: 026, Loss: 1.4401\n",
      "Epoch: 027, Loss: 1.4228\n",
      "Epoch: 028, Loss: 1.4139\n",
      "Epoch: 029, Loss: 1.3813\n",
      "Epoch: 030, Loss: 1.3552\n",
      "Epoch: 031, Loss: 1.3494\n",
      "Epoch: 032, Loss: 1.3077\n",
      "Epoch: 033, Loss: 1.2738\n",
      "Epoch: 034, Loss: 1.2418\n",
      "Epoch: 035, Loss: 1.2076\n",
      "Epoch: 036, Loss: 1.1684\n",
      "Epoch: 037, Loss: 1.1372\n",
      "Epoch: 038, Loss: 1.0984\n",
      "Epoch: 039, Loss: 1.0558\n",
      "Epoch: 040, Loss: 1.0112\n",
      "Epoch: 041, Loss: 0.9662\n",
      "Epoch: 042, Loss: 0.9235\n",
      "Epoch: 043, Loss: 0.8987\n",
      "Epoch: 044, Loss: 0.8609\n",
      "Epoch: 045, Loss: 0.8205\n",
      "Epoch: 046, Loss: 0.8112\n",
      "Epoch: 047, Loss: 0.7878\n",
      "Epoch: 048, Loss: 0.7646\n",
      "Epoch: 049, Loss: 0.7306\n",
      "Epoch: 050, Loss: 0.7285\n",
      "Epoch: 051, Loss: 0.7091\n",
      "Epoch: 052, Loss: 0.6818\n",
      "Epoch: 053, Loss: 0.6769\n",
      "Epoch: 054, Loss: 0.6734\n",
      "Epoch: 055, Loss: 0.6450\n",
      "Epoch: 056, Loss: 0.6261\n",
      "Epoch: 057, Loss: 0.6077\n",
      "Epoch: 058, Loss: 0.6189\n",
      "Epoch: 059, Loss: 0.5979\n",
      "Epoch: 060, Loss: 0.5927\n",
      "Epoch: 061, Loss: 0.5855\n",
      "Epoch: 062, Loss: 0.5686\n",
      "Epoch: 063, Loss: 0.5288\n",
      "Epoch: 064, Loss: 0.5352\n",
      "Epoch: 065, Loss: 0.5346\n",
      "Epoch: 066, Loss: 0.5272\n",
      "Epoch: 067, Loss: 0.4903\n",
      "Epoch: 068, Loss: 0.5138\n",
      "Epoch: 069, Loss: 0.4690\n",
      "Epoch: 070, Loss: 0.5005\n",
      "Epoch: 071, Loss: 0.4539\n",
      "Epoch: 072, Loss: 0.4691\n",
      "Epoch: 073, Loss: 0.4233\n",
      "Epoch: 074, Loss: 0.4502\n",
      "Epoch: 075, Loss: 0.3967\n",
      "Epoch: 076, Loss: 0.4097\n",
      "Epoch: 077, Loss: 0.3902\n",
      "Epoch: 078, Loss: 0.4102\n",
      "Epoch: 079, Loss: 0.3812\n",
      "Epoch: 080, Loss: 0.3866\n",
      "Epoch: 081, Loss: 0.3917\n",
      "Epoch: 082, Loss: 0.3582\n",
      "Epoch: 083, Loss: 0.3666\n",
      "Epoch: 084, Loss: 0.3519\n",
      "Epoch: 085, Loss: 0.3351\n",
      "Epoch: 086, Loss: 0.3379\n",
      "Epoch: 087, Loss: 0.3357\n",
      "Epoch: 088, Loss: 0.3144\n",
      "Epoch: 089, Loss: 0.3454\n",
      "Epoch: 090, Loss: 0.3178\n",
      "Epoch: 091, Loss: 0.3244\n",
      "Epoch: 092, Loss: 0.3252\n",
      "Epoch: 093, Loss: 0.3034\n",
      "Epoch: 094, Loss: 0.3132\n",
      "Epoch: 095, Loss: 0.3281\n",
      "Epoch: 096, Loss: 0.3023\n",
      "Epoch: 097, Loss: 0.2935\n",
      "Epoch: 098, Loss: 0.3041\n",
      "Epoch: 099, Loss: 0.3018\n",
      "Epoch: 100, Loss: 0.2918\n"
     ]
    }
   ],
   "source": [
    "optimizer = torch.optim.Adam(model.parameters(), lr=0.01, weight_decay=5e-4) #SGD, Adagrad\n",
    "criterion = torch.nn.CrossEntropyLoss()\n",
    "\n",
    "def train():\n",
    "    model.train()\n",
    "    optimizer.zero_grad()  # Clear gradients.\n",
    "    out = model(data.x, data.edge_index)  # Perform a single forward pass.\n",
    "    loss = criterion(out[data.train_mask], data.y[data.train_mask])  # Compute the loss solely based on the training nodes.\n",
    "    loss.backward()  # Derive gradients.\n",
    "    optimizer.step()  # Update parameters based on gradients.\n",
    "    return loss\n",
    "\n",
    "def test():\n",
    "    model.eval()\n",
    "    out = model(data.x, data.edge_index)\n",
    "    \n",
    "    ### NODE CLASSIFICATION ACTS HERE ###\n",
    "    pred = out.argmax(dim=1)  # Use the class with highest probability.\n",
    "    ### --- ###\n",
    "    \n",
    "    # Evaluation\n",
    "    train_correct = pred[data.train_mask] == data.y[data.train_mask]  # Check against ground-truth labels for train set.\n",
    "    train_acc = int(train_correct.sum()) / int(data.train_mask.sum())  # Derive ratio of correct predictions for train set.\n",
    "    test_correct = pred[data.test_mask] == data.y[data.test_mask]  # Check against ground-truth labels for test set.\n",
    "    test_acc = int(test_correct.sum()) / int(data.test_mask.sum())  # Derive ratio of correct predictions for test set.\n",
    "    return train_acc, test_acc\n",
    "\n",
    "\n",
    "for epoch in range(1, 101):\n",
    "    loss = train()\n",
    "    print(f'Epoch: {epoch:03d}, Loss: {loss:.4f}')"
   ]
  },
  {
   "cell_type": "code",
   "execution_count": 23,
   "id": "33a2b261",
   "metadata": {},
   "outputs": [
    {
     "name": "stdout",
     "output_type": "stream",
     "text": [
      "Train Accuracy: 0.9415\n",
      "Test Accuracy: 0.8707\n"
     ]
    }
   ],
   "source": [
    "train_acc,test_acc = test()\n",
    "print(f'Train Accuracy: {train_acc:.4f}\\nTest Accuracy: {test_acc:.4f}')"
   ]
  },
  {
   "cell_type": "code",
   "execution_count": 24,
   "id": "e71df55f",
   "metadata": {},
   "outputs": [
    {
     "name": "stderr",
     "output_type": "stream",
     "text": [
      "/home/jupyter-manuel_dileo/.local/lib/python3.9/site-packages/sklearn/manifold/_t_sne.py:780: FutureWarning: The default initialization in TSNE will change from 'random' to 'pca' in 1.2.\n",
      "  warnings.warn(\n",
      "/home/jupyter-manuel_dileo/.local/lib/python3.9/site-packages/sklearn/manifold/_t_sne.py:790: FutureWarning: The default learning rate in TSNE will change from 200.0 to 'auto' in 1.2.\n",
      "  warnings.warn(\n"
     ]
    },
    {
     "data": {
      "image/png": "[encoded data removed]",
      "text/plain": [
       "<Figure size 720x720 with 1 Axes>"
      ]
     },
     "metadata": {},
     "output_type": "display_data"
    }
   ],
   "source": [
    "# Helper function for visualization.\n",
    "%matplotlib inline\n",
    "import matplotlib.pyplot as plt\n",
    "from sklearn.manifold import TSNE\n",
    "\n",
    "def visualize(h, color):\n",
    "    z = TSNE(n_components=2).fit_transform(h.detach().cpu().numpy()) #TSNE applied to node embeddings as numpy arrays\n",
    "\n",
    "    plt.figure(figsize=(10,10))\n",
    "    plt.xticks([])\n",
    "    plt.yticks([])\n",
    "\n",
    "    plt.scatter(z[:, 0], z[:, 1], s=70, c=color, cmap=\"Set2\")\n",
    "    plt.show()\n",
    "\n",
    "model.eval()\n",
    "out = model(data.x, data.edge_index)\n",
    "visualize(out, color=data.y)"
   ]
  },
  {
   "cell_type": "markdown",
   "id": "5a5a2b53",
   "metadata": {},
   "source": [
    "#### TODO\n",
    "\n",
    "- Perform hyperparameter optimization\n",
    "- Print train and test accuracy along the epochs\n",
    "- Print different evaluation metrics (e.g. confusion matrix)"
   ]
  },
  {
   "cell_type": "markdown",
   "id": "93d7416e",
   "metadata": {},
   "source": [
    "### Link Prediction"
   ]
  },
  {
   "cell_type": "markdown",
   "id": "b39a3918",
   "metadata": {},
   "source": [
    "#### Link split and negative sampling"
   ]
  },
  {
   "cell_type": "code",
   "execution_count": 25,
   "id": "2dd08bca",
   "metadata": {},
   "outputs": [],
   "source": [
    "#Perform random link split\n",
    "from torch_geometric.transforms import RandomLinkSplit\n",
    "\n",
    "link_split = RandomLinkSplit(num_val=0.0,num_test=0.25)\n",
    "train_link, val_link, test_link = link_split(data)"
   ]
  },
  {
   "cell_type": "code",
   "execution_count": 26,
   "id": "b4cd61b6",
   "metadata": {},
   "outputs": [
    {
     "data": {
      "text/plain": [
       "Data(x=[2708, 1433], edge_index=[2, 7917], y=[2708], train_mask=[2708], val_mask=[2708], test_mask=[2708], edge_label=[15834], edge_label_index=[2, 15834])"
      ]
     },
     "execution_count": 26,
     "metadata": {},
     "output_type": "execute_result"
    }
   ],
   "source": [
    "train_link"
   ]
  },
  {
   "cell_type": "code",
   "execution_count": 27,
   "id": "4ca37377",
   "metadata": {},
   "outputs": [],
   "source": [
    "# edge_label : 1 for closed link, 0 for open link\n",
    "# edge_label_index: edge_index + negative_sampling edge_index"
   ]
  },
  {
   "cell_type": "markdown",
   "id": "e263e0bb",
   "metadata": {},
   "source": [
    "`RandomLinkSplit` performs split + negative sampling: this is perfect for static networks. Suppose you want to test your model in a future time interval... you do not need to perform a link split. How to perform negative sampling?"
   ]
  },
  {
   "cell_type": "code",
   "execution_count": 28,
   "id": "6e52d657",
   "metadata": {},
   "outputs": [],
   "source": [
    "from torch_geometric.utils import negative_sampling\n",
    "\n",
    "future_data = Planetoid(root='data/Planetoid', name='Cora')[0]\n",
    "\n",
    "#NEGATIVE SAMPLING\n",
    "future_neg_edge_index = negative_sampling(\n",
    "        edge_index=future_data.edge_index, #positive edges\n",
    "        num_nodes=future_data.num_nodes, # number of nodes\n",
    "        num_neg_samples=future_data.edge_index.size(1)) # number of neg_sample equal to number of pos_edges"
   ]
  },
  {
   "cell_type": "code",
   "execution_count": 29,
   "id": "beb94269",
   "metadata": {},
   "outputs": [
    {
     "data": {
      "text/plain": [
       "tensor([[1274,  661,  411,  ..., 2404, 2475, 2559],\n",
       "        [ 336,   89,  275,  ..., 1148, 2461, 2067]])"
      ]
     },
     "execution_count": 29,
     "metadata": {},
     "output_type": "execute_result"
    }
   ],
   "source": [
    "future_neg_edge_index"
   ]
  },
  {
   "cell_type": "code",
   "execution_count": 30,
   "id": "cc7ec9de",
   "metadata": {},
   "outputs": [],
   "source": [
    "#edge index ok, edge_label concat, edge_label_index concat\n",
    "num_pos_edge = future_data.edge_index.size(1)\n",
    "future_data.edge_label = torch.Tensor(np.array([1 for i in range(num_pos_edge)] + [0 for i in range(num_pos_edge)]))\n",
    "future_data.edge_label_index = torch.cat([future_data.edge_index, future_neg_edge_index], dim=-1)"
   ]
  },
  {
   "cell_type": "code",
   "execution_count": 31,
   "id": "a179e2fc",
   "metadata": {},
   "outputs": [
    {
     "data": {
      "text/plain": [
       "Data(x=[2708, 1433], edge_index=[2, 10556], y=[2708], train_mask=[2708], val_mask=[2708], test_mask=[2708], edge_label=[21112], edge_label_index=[2, 21112])"
      ]
     },
     "execution_count": 31,
     "metadata": {},
     "output_type": "execute_result"
    }
   ],
   "source": [
    "future_data"
   ]
  },
  {
   "cell_type": "markdown",
   "id": "ac2715e4",
   "metadata": {},
   "source": [
    "#### GNN Training"
   ]
  },
  {
   "cell_type": "code",
   "execution_count": 32,
   "id": "1c18837f",
   "metadata": {},
   "outputs": [],
   "source": [
    "from sklearn.metrics import roc_auc_score"
   ]
  },
  {
   "cell_type": "markdown",
   "id": "21b0af76",
   "metadata": {},
   "source": [
    "We can re-use the same GNN model!"
   ]
  },
  {
   "cell_type": "markdown",
   "id": "15033028",
   "metadata": {},
   "source": [
    "<img src=\"CoraGCNLinkPre.png\" alt=\"linkpred_gcn\" width=\"500\"/>"
   ]
  },
  {
   "cell_type": "code",
   "execution_count": 33,
   "id": "ad981518",
   "metadata": {},
   "outputs": [
    {
     "name": "stdout",
     "output_type": "stream",
     "text": [
      "Epoch: 001, Loss: 0.6903\n",
      "Epoch: 002, Loss: 0.6842\n",
      "Epoch: 003, Loss: 0.6778\n",
      "Epoch: 004, Loss: 0.6834\n",
      "Epoch: 005, Loss: 0.6767\n",
      "Epoch: 006, Loss: 0.6772\n",
      "Epoch: 007, Loss: 0.6783\n",
      "Epoch: 008, Loss: 0.6774\n",
      "Epoch: 009, Loss: 0.6767\n",
      "Epoch: 010, Loss: 0.6746\n",
      "Epoch: 011, Loss: 0.6753\n",
      "Epoch: 012, Loss: 0.6738\n",
      "Epoch: 013, Loss: 0.6749\n",
      "Epoch: 014, Loss: 0.6737\n",
      "Epoch: 015, Loss: 0.6723\n",
      "Epoch: 016, Loss: 0.6722\n",
      "Epoch: 017, Loss: 0.6722\n",
      "Epoch: 018, Loss: 0.6710\n",
      "Epoch: 019, Loss: 0.6698\n",
      "Epoch: 020, Loss: 0.6704\n",
      "Epoch: 021, Loss: 0.6688\n",
      "Epoch: 022, Loss: 0.6681\n",
      "Epoch: 023, Loss: 0.6698\n",
      "Epoch: 024, Loss: 0.6677\n",
      "Epoch: 025, Loss: 0.6655\n",
      "Epoch: 026, Loss: 0.6659\n",
      "Epoch: 027, Loss: 0.6663\n",
      "Epoch: 028, Loss: 0.6641\n",
      "Epoch: 029, Loss: 0.6633\n",
      "Epoch: 030, Loss: 0.6622\n",
      "Epoch: 031, Loss: 0.6595\n",
      "Epoch: 032, Loss: 0.6581\n",
      "Epoch: 033, Loss: 0.6584\n",
      "Epoch: 034, Loss: 0.6601\n",
      "Epoch: 035, Loss: 0.6561\n",
      "Epoch: 036, Loss: 0.6552\n",
      "Epoch: 037, Loss: 0.6526\n",
      "Epoch: 038, Loss: 0.6511\n",
      "Epoch: 039, Loss: 0.6459\n",
      "Epoch: 040, Loss: 0.6435\n",
      "Epoch: 041, Loss: 0.6431\n",
      "Epoch: 042, Loss: 0.6410\n",
      "Epoch: 043, Loss: 0.6348\n",
      "Epoch: 044, Loss: 0.6311\n",
      "Epoch: 045, Loss: 0.6274\n",
      "Epoch: 046, Loss: 0.6181\n",
      "Epoch: 047, Loss: 0.6162\n",
      "Epoch: 048, Loss: 0.6127\n",
      "Epoch: 049, Loss: 0.6096\n",
      "Epoch: 050, Loss: 0.5998\n",
      "Epoch: 051, Loss: 0.5901\n",
      "Epoch: 052, Loss: 0.5977\n",
      "Epoch: 053, Loss: 0.5811\n",
      "Epoch: 054, Loss: 0.5783\n",
      "Epoch: 055, Loss: 0.5807\n",
      "Epoch: 056, Loss: 0.5705\n",
      "Epoch: 057, Loss: 0.5729\n",
      "Epoch: 058, Loss: 0.5719\n",
      "Epoch: 059, Loss: 0.5688\n",
      "Epoch: 060, Loss: 0.5665\n",
      "Epoch: 061, Loss: 0.5632\n",
      "Epoch: 062, Loss: 0.5710\n",
      "Epoch: 063, Loss: 0.5618\n",
      "Epoch: 064, Loss: 0.5635\n",
      "Epoch: 065, Loss: 0.5565\n",
      "Epoch: 066, Loss: 0.5591\n",
      "Epoch: 067, Loss: 0.5562\n",
      "Epoch: 068, Loss: 0.5520\n",
      "Epoch: 069, Loss: 0.5559\n",
      "Epoch: 070, Loss: 0.5584\n",
      "Epoch: 071, Loss: 0.5487\n",
      "Epoch: 072, Loss: 0.5488\n",
      "Epoch: 073, Loss: 0.5497\n",
      "Epoch: 074, Loss: 0.5473\n",
      "Epoch: 075, Loss: 0.5458\n",
      "Epoch: 076, Loss: 0.5497\n",
      "Epoch: 077, Loss: 0.5445\n",
      "Epoch: 078, Loss: 0.5467\n",
      "Epoch: 079, Loss: 0.5446\n",
      "Epoch: 080, Loss: 0.5416\n",
      "Epoch: 081, Loss: 0.5427\n",
      "Epoch: 082, Loss: 0.5402\n",
      "Epoch: 083, Loss: 0.5399\n",
      "Epoch: 084, Loss: 0.5423\n",
      "Epoch: 085, Loss: 0.5347\n",
      "Epoch: 086, Loss: 0.5372\n",
      "Epoch: 087, Loss: 0.5381\n",
      "Epoch: 088, Loss: 0.5413\n",
      "Epoch: 089, Loss: 0.5526\n",
      "Epoch: 090, Loss: 0.5452\n",
      "Epoch: 091, Loss: 0.5358\n",
      "Epoch: 092, Loss: 0.5589\n",
      "Epoch: 093, Loss: 0.5464\n",
      "Epoch: 094, Loss: 0.5425\n",
      "Epoch: 095, Loss: 0.5462\n",
      "Epoch: 096, Loss: 0.5406\n",
      "Epoch: 097, Loss: 0.5443\n",
      "Epoch: 098, Loss: 0.5374\n",
      "Epoch: 099, Loss: 0.5452\n",
      "Epoch: 100, Loss: 0.5329\n"
     ]
    }
   ],
   "source": [
    "model = CoraGCN()\n",
    "model.reset_parameters()\n",
    "optimizer = torch.optim.Adam(model.parameters(), lr=0.01, weight_decay=5e-4)\n",
    "criterion =  torch.nn.BCEWithLogitsLoss() #change loss function\n",
    "\n",
    "def train_linkpre():\n",
    "    \n",
    "    model.train()\n",
    "    optimizer.zero_grad()  # Clear gradients.\n",
    "    out = model(train_link.x, train_link.edge_index)  # Perform a single forward pass.\n",
    "    \n",
    "    ### LINK PREDICTION ACTS HERE ###\n",
    "    \n",
    "    out_src = out[train_link.edge_label_index[0]] #embedding src nodes\n",
    "    out_dst = out[train_link.edge_label_index[1]] #embedding dst nodes\n",
    "    \n",
    "    # LINK EMBEDDING #\n",
    "    # 1 - Dot Product\n",
    "    out_sim = out_src * out_dst #dotproduct\n",
    "    pred = torch.sum(out_sim, dim=-1)\n",
    "    \n",
    "    # 2 - Concatenation + linear function\n",
    "    #out_sim = torch.cat([out_src, out_dst], dim=-1)\n",
    "    #pred = torch.sum(out_sim,dim=-1)\n",
    "    \n",
    "    \n",
    "    loss = criterion(pred, train_link.edge_label.type_as(pred))  # Compute the loss solely based on the training nodes.\n",
    "    loss.backward()  # Derive gradients.\n",
    "    optimizer.step()  # Update parameters based on gradients.\n",
    "    return loss\n",
    "\n",
    "def test_linkpre(test_link):\n",
    "    model.eval()\n",
    "    out = model(test_link.x, test_link.edge_index)\n",
    "    \n",
    "    ### LINK PREDICTION ACTS HERE ###\n",
    "    \n",
    "    out_src = out[test_link.edge_label_index[0]] #embedding src nodes\n",
    "    out_dst = out[test_link.edge_label_index[1]] #embedding dst nodes\n",
    "    \n",
    "    # LINK EMBEDDING #\n",
    "    # 1 - Dot Product\n",
    "    out_sim = out_src * out_dst\n",
    "    h = torch.sum(out_sim, dim=-1)\n",
    "    \n",
    "    # 2 - Concatenation + linear function\n",
    "    #out_sim = torch.cat([out_src, out_dst], dim=-1)\n",
    "    #h = torch.sum(out_sim,dim=-1)\n",
    "    \n",
    "    pred_cont = torch.sigmoid(h).cpu().detach().numpy()\n",
    "    \n",
    "    # EVALUATION\n",
    "    test_label = test_link.edge_label.cpu().detach().numpy() #retrieve test set labels\n",
    "    test_roc_score = roc_auc_score(test_label, pred_cont) #comput AUROC score for test set\n",
    "    \n",
    "    return test_roc_score\n",
    "\n",
    "\n",
    "for epoch in range(1, 101):\n",
    "    loss = train_linkpre()\n",
    "    print(f'Epoch: {epoch:03d}, Loss: {loss:.4f}')"
   ]
  },
  {
   "cell_type": "code",
   "execution_count": 34,
   "id": "73773cd7",
   "metadata": {},
   "outputs": [
    {
     "name": "stdout",
     "output_type": "stream",
     "text": [
      "Train AUROC: 0.8340\n",
      "Test AUROC: 0.7796\n"
     ]
    }
   ],
   "source": [
    "roc_train = test_linkpre(train_link)\n",
    "roc_test = test_linkpre(test_link)\n",
    "print(f'Train AUROC: {roc_train:.4f}\\nTest AUROC: {roc_test:.4f}')"
   ]
  }
 ],
 "metadata": {
  "kernelspec": {
   "display_name": "Python 3 (ipykernel)",
   "language": "python",
   "name": "python3"
  },
  "language_info": {
   "codemirror_mode": {
    "name": "ipython",
    "version": 3
   },
   "file_extension": ".py",
   "mimetype": "text/x-python",
   "name": "python",
   "nbconvert_exporter": "python",
   "pygments_lexer": "ipython3",
   "version": "3.9.7"
  }
 },
 "nbformat": 4,
 "nbformat_minor": 5
}
