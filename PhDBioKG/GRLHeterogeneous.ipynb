{
 "cells": [
  {
   "cell_type": "code",
   "execution_count": null,
   "id": "a4efe444",
   "metadata": {},
   "outputs": [],
   "source": [
    "#!pip install pyg_lib torch_scatter torch_sparse torch_cluster torch_spline_conv torch_geometric -f https://data.pyg.org/whl/torch-1.13.0+cpu.html"
   ]
  },
  {
   "cell_type": "markdown",
   "id": "ed0a7735",
   "metadata": {},
   "source": [
    "## OGB(L) - BIOKG"
   ]
  },
  {
   "cell_type": "markdown",
   "id": "16c6d0c3",
   "metadata": {},
   "source": [
    "[Open Graph Benchmark: Datasets for Machine Learning on Graphs](https://arxiv.org/abs/2005.00687) is one of the most used benchmark in machine learning on graphs. OGB contains graph datasets that are managed by data loaders. The loaders handle downloading and pre-processing of the datasets. Additionally, OGB has standardized evaluators and leaderboards to keep track of state-of-the-art results.\n",
    "\n",
    "**Dataset description**: For this lecture, we will focus on OGBL - BIOKG, a knowledge graph related to bio-medical field available in OGB to perform multi-relational link prediction tasks.  The ogbl-biokg dataset is a Knowledge Graph (KG), which it was created using data from a large number of biomedical data repositories. It contains 5 types of entities: diseases (10,687 nodes), proteins (17,499), drugs (10,533 nodes), side effects (9,969 nodes), and protein functions (45,085 nodes). There are 51 types of directed relations connecting two types of entities, including 38 kinds of drug-drug interactions, 8 kinds of protein-protein interaction, as well as drug-protein, drug-side effect, function-function relations. All relations are modeled as directed edges, among which the relations connecting the same entity types (e.g., protein-protein, drug-drug, function-function) are always symmetric, i.e., the edges are bi-directional.\n",
    "\n",
    "**Prediction task**: Prediction of drugs' side effect (i.e. link prediction between drug and side effect entities).\n",
    "\n",
    "**Dataset splitting**: They adopt random split. While splitting the triplets according to time is an attractive alternative, it is incredibly challenging to obtain accurate information as to when individual experiments and observations underlying the triplets were made."
   ]
  },
  {
   "cell_type": "code",
   "execution_count": null,
   "id": "76906d9a",
   "metadata": {
    "scrolled": true
   },
   "outputs": [],
   "source": [
    "#Retrive BioKG from OGB\n",
    "from ogb.linkproppred import PygLinkPropPredDataset\n",
    "\n",
    "dataset = PygLinkPropPredDataset(name = 'ogbl-biokg') \n",
    "\n",
    "graph = dataset[0]"
   ]
  },
  {
   "cell_type": "code",
   "execution_count": null,
   "id": "e20a0002",
   "metadata": {},
   "outputs": [],
   "source": [
    "#Construct an HeteroData object from OGB-BIOKG\n",
    "from torch_geometric.data import HeteroData\n",
    "import torch\n",
    "\n",
    "data = HeteroData()\n",
    "\n",
    "for tnode, num in graph.num_nodes_dict.items():\n",
    "    data[tnode].x = torch.Tensor([[1] for i in range(num)])\n",
    "    \n",
    "for tedge, edge_index in graph.edge_index_dict.items():\n",
    "    data[tedge].edge_index = edge_index"
   ]
  },
  {
   "cell_type": "code",
   "execution_count": null,
   "id": "efd8c59e",
   "metadata": {},
   "outputs": [],
   "source": [
    "data['drug']\n",
    "#E.g.: there are 10687 disease with 1 node feature. \n",
    "#There are 73547 edge between disease and protein"
   ]
  },
  {
   "cell_type": "code",
   "execution_count": null,
   "id": "aac23d09",
   "metadata": {},
   "outputs": [],
   "source": [
    "data['drug'].x"
   ]
  },
  {
   "cell_type": "code",
   "execution_count": null,
   "id": "fc3a7778",
   "metadata": {},
   "outputs": [],
   "source": [
    "data['drug', 'drug-sideeffect', 'sideeffect'].edge_index"
   ]
  },
  {
   "cell_type": "code",
   "execution_count": null,
   "id": "6da2ee8f",
   "metadata": {},
   "outputs": [],
   "source": [
    "data.x_dict"
   ]
  },
  {
   "cell_type": "code",
   "execution_count": null,
   "id": "8313b09c",
   "metadata": {},
   "outputs": [],
   "source": [
    "data.edge_index_dict"
   ]
  },
  {
   "cell_type": "code",
   "execution_count": null,
   "id": "1df139fa",
   "metadata": {},
   "outputs": [],
   "source": [
    "data.metadata() #in position 0 you have the list of node types, in pos 1 the list of edge types"
   ]
  },
  {
   "cell_type": "markdown",
   "id": "25c5e280",
   "metadata": {},
   "source": [
    "## MetaPath2Vec"
   ]
  },
  {
   "cell_type": "markdown",
   "id": "5e9e7224",
   "metadata": {},
   "source": [
    "We can refer to the [example](https://github.com/pyg-team/pytorch_geometric/blob/master/examples/hetero/metapath2vec.py) available in PyG"
   ]
  },
  {
   "cell_type": "markdown",
   "id": "3700ddea",
   "metadata": {},
   "source": [
    "## Factorization Methods"
   ]
  },
  {
   "cell_type": "markdown",
   "id": "d57293f1",
   "metadata": {},
   "source": [
    "From March 2023, factorization methods like DistMult, TransE, and ComplEx are available in [PyG](https://pytorch-geometric.readthedocs.io/en/latest/modules/nn.html#kge-models)! \n",
    "\n",
    "We also suggest the implementations available in [libKGE](https://github.com/uma-pi1/kge)"
   ]
  },
  {
   "cell_type": "markdown",
   "id": "4300685a",
   "metadata": {},
   "source": [
    "## HeteroGNN Models"
   ]
  },
  {
   "cell_type": "markdown",
   "id": "aeb655a8",
   "metadata": {},
   "source": [
    "### RGCN"
   ]
  },
  {
   "cell_type": "markdown",
   "id": "26339f4e",
   "metadata": {},
   "source": [
    "[RGCNConv](https://pytorch-geometric.readthedocs.io/en/latest/generated/torch_geometric.nn.conv.RGCNConv.html#torch_geometric.nn.conv.RGCNConv) is implemented and available in PyG. However, it does not support HeteroData but just Data with an attribute on the edge types. For this reason, we chose to present HeteroConv, a generic wrap for hetero graph learning that could be useful for any kind of HeteroGNN-based architecture. In the following architecture, we will use [GraphSAGE](https://pytorch-geometric.readthedocs.io/en/latest/generated/torch_geometric.nn.conv.SAGEConv.html) instead of [GCN](https://pytorch-geometric.readthedocs.io/en/latest/generated/torch_geometric.nn.conv.GCNConv.html#torch_geometric.nn.conv.GCNConv) due to an heterogeneity-unaware implementation problem."
   ]
  },
  {
   "cell_type": "code",
   "execution_count": null,
   "id": "706a87a6",
   "metadata": {},
   "outputs": [],
   "source": [
    "from torch_geometric.nn import HeteroConv, Linear, SAGEConv\n",
    "import torch.nn.functional as F"
   ]
  },
  {
   "cell_type": "code",
   "execution_count": null,
   "id": "0b010d4d",
   "metadata": {},
   "outputs": [],
   "source": [
    "class BioRGCN(torch.nn.Module):\n",
    "    \n",
    "    def __init__(self, metadata):\n",
    "        super().__init__()\n",
    "        torch.manual_seed(1234567) #manual seed for reproducibility\n",
    "        edge_types = metadata[1]\n",
    "        self.conv1 = HeteroConv({edge_t: SAGEConv((1,1), 32, add_self_loops=False) for edge_t in edge_types}, aggr='sum')\n",
    "        self.conv2 = HeteroConv({edge_t: SAGEConv((32,32), 2, add_self_loops=False) for edge_t in edge_types}, aggr='sum')\n",
    "        \n",
    "    def reset_parameters(self):\n",
    "        self.conv1.reset_parameters()\n",
    "        self.conv2.reset_parameters()\n",
    "\n",
    "    def forward(self, x_dict, edge_index_dict, edge_label_index):\n",
    "        #x : node feature matrix, edge_index : structure of the graph\n",
    "        \n",
    "        out_dict = self.conv1(x_dict, edge_index_dict)\n",
    "        out_dict = {node: out.relu() for node,out in out_dict.items()}\n",
    "        \n",
    "        out_dict = self.conv2(out_dict, edge_index_dict)\n",
    "        \n",
    "        #link prediction decoder on ('drug', 'drug-sideeffect', 'sideeffect')\n",
    "        h_src = out_dict['drug'][edge_label_index[0]]\n",
    "        h_dst = out_dict['sideeffect'][edge_label_index[1]]\n",
    "        h_sim = h_src * h_dst\n",
    "        h = torch.sum(h_sim,dim=1)\n",
    "        \n",
    "        return h"
   ]
  },
  {
   "cell_type": "code",
   "execution_count": null,
   "id": "c37ac895",
   "metadata": {},
   "outputs": [],
   "source": [
    "model = BioRGCN(data.metadata())\n",
    "model.reset_parameters()"
   ]
  },
  {
   "cell_type": "code",
   "execution_count": null,
   "id": "44c0da44",
   "metadata": {},
   "outputs": [],
   "source": [
    "model"
   ]
  },
  {
   "cell_type": "markdown",
   "id": "a34d8642",
   "metadata": {},
   "source": [
    "![How Hetero graph learning works](heteroconv.PNG)"
   ]
  },
  {
   "cell_type": "markdown",
   "id": "93d7416e",
   "metadata": {},
   "source": [
    "### Link Prediction"
   ]
  },
  {
   "cell_type": "markdown",
   "id": "b39a3918",
   "metadata": {},
   "source": [
    "#### Link split and negative sampling"
   ]
  },
  {
   "cell_type": "code",
   "execution_count": null,
   "id": "2dd08bca",
   "metadata": {},
   "outputs": [],
   "source": [
    "#Perform random link split\n",
    "from torch_geometric.transforms import RandomLinkSplit\n",
    "\n",
    "link_split = RandomLinkSplit(num_val=0.0,num_test=0.25, edge_types = data.metadata()[1])\n",
    "train_link, val_link, test_link = link_split(data)"
   ]
  },
  {
   "cell_type": "code",
   "execution_count": null,
   "id": "b4cd61b6",
   "metadata": {},
   "outputs": [],
   "source": [
    "train_link"
   ]
  },
  {
   "cell_type": "code",
   "execution_count": null,
   "id": "4ca37377",
   "metadata": {},
   "outputs": [],
   "source": [
    "# edge_label : 1 for closed link, 0 for open link\n",
    "# edge_label_index: edge_index + negative_sampling edge_index"
   ]
  },
  {
   "cell_type": "markdown",
   "id": "e263e0bb",
   "metadata": {},
   "source": [
    "`RandomLinkSplit` performs split + negative sampling: this is perfect for static networks. Suppose you want to test your model in a future time interval... you do not need to perform a link split. How to perform negative sampling?"
   ]
  },
  {
   "cell_type": "markdown",
   "id": "ac2715e4",
   "metadata": {},
   "source": [
    "#### Training"
   ]
  },
  {
   "cell_type": "code",
   "execution_count": null,
   "id": "1c18837f",
   "metadata": {},
   "outputs": [],
   "source": [
    "from sklearn.metrics import roc_auc_score"
   ]
  },
  {
   "cell_type": "code",
   "execution_count": null,
   "id": "ad981518",
   "metadata": {},
   "outputs": [],
   "source": [
    "model = BioRGCN(data.metadata())\n",
    "model.reset_parameters()\n",
    "optimizer = torch.optim.Adam(model.parameters(), lr=0.01, weight_decay=5e-4)\n",
    "criterion =  torch.nn.BCEWithLogitsLoss() #change loss function\n",
    "\n",
    "def train_linkpre():\n",
    "    model.train()\n",
    "    optimizer.zero_grad()  # Clear gradients.\n",
    "    pred = model(train_link.x_dict, train_link.edge_index_dict,\\\n",
    "                train_link['drug', 'drug-sideeffect', 'sideeffect'].edge_label_index)\n",
    "    # Perform a single forward pass.\n",
    "    \n",
    "    loss = criterion(pred, train_link['drug', 'drug-sideeffect', 'sideeffect'].edge_label.type_as(pred))  # Compute the loss solely based on the training nodes.\n",
    "    loss.backward()  # Derive gradients.\n",
    "    optimizer.step()  # Update parameters based on gradients.\n",
    "    return loss\n",
    "\n",
    "for epoch in range(1, 101):\n",
    "    loss = train_linkpre()\n",
    "    print(f'Epoch: {epoch:03d}, Loss: {loss:.4f}')"
   ]
  },
  {
   "cell_type": "code",
   "execution_count": null,
   "id": "e2221557",
   "metadata": {},
   "outputs": [],
   "source": [
    "def test_linkpre(test_link):\n",
    "    model.eval()\n",
    "    out = model(test_link.x_dict, test_link.edge_index_dict,\\\n",
    "               test_link['drug', 'drug-sideeffect', 'sideeffect'].edge_label_index)\n",
    "    \n",
    "    pred_cont = torch.sigmoid(out).cpu().detach().numpy()\n",
    "    \n",
    "    # EVALUATION\n",
    "    test_label = test_link['drug', 'drug-sideeffect', 'sideeffect'].edge_label.cpu().detach().numpy() #retrieve test set labels\n",
    "    test_roc_score = roc_auc_score(test_label, pred_cont) #comput AUROC score for test set\n",
    "    \n",
    "    return test_roc_score"
   ]
  },
  {
   "cell_type": "code",
   "execution_count": null,
   "id": "73773cd7",
   "metadata": {},
   "outputs": [],
   "source": [
    "roc_train = test_linkpre(train_link)\n",
    "roc_test = test_linkpre(test_link)\n",
    "print(f'Train AUROC: {roc_train:.4f}\\nTest AUROC: {roc_test:.4f}')"
   ]
  },
  {
   "cell_type": "markdown",
   "id": "6ccd3438",
   "metadata": {},
   "source": [
    "### HAN"
   ]
  },
  {
   "cell_type": "markdown",
   "id": "47b96ff5",
   "metadata": {},
   "source": [
    "Beside HeteroConv wrapper, there are some graph convolutional operator natively developed for heterogenous graph learning. [HANConv](https://pytorch-geometric.readthedocs.io/en/latest/generated/torch_geometric.nn.conv.HANConv.html#torch_geometric.nn.conv.HANConv) is one of them."
   ]
  },
  {
   "cell_type": "code",
   "execution_count": null,
   "id": "8e218e1b",
   "metadata": {},
   "outputs": [],
   "source": [
    "from torch_geometric.nn import HANConv\n",
    "\n",
    "class BioHAN(torch.nn.Module):\n",
    "    \n",
    "    def __init__(self, metadata):\n",
    "        super().__init__()\n",
    "        torch.manual_seed(1234567) #manual seed for reproducibility\n",
    "        self.conv1 = HANConv(1, 32, metadata=metadata)\n",
    "        self.conv2 = HANConv(32, 2, metadata=metadata)\n",
    "        \n",
    "    def reset_parameters(self):\n",
    "        self.conv1.reset_parameters()\n",
    "        self.conv2.reset_parameters()\n",
    "\n",
    "    def forward(self, x_dict, edge_index_dict, edge_label_index):\n",
    "        #x : node feature matrix, edge_index : structure of the graph\n",
    "        \n",
    "        out_dict = self.conv1(x_dict, edge_index_dict)\n",
    "        out_dict = {node: out.relu() for node,out in out_dict.items()}\n",
    "        \n",
    "        out_dict = self.conv2(out_dict, edge_index_dict)\n",
    "        \n",
    "        #link prediction decoder on ('drug', 'drug-sideeffect', 'sideeffect')\n",
    "        h_src = out_dict['drug'][edge_label_index[0]]\n",
    "        h_dst = out_dict['sideeffect'][edge_label_index[1]]\n",
    "        h_sim = h_src * h_dst\n",
    "        h = torch.sum(h_sim,dim=1)\n",
    "        \n",
    "        return h"
   ]
  },
  {
   "cell_type": "code",
   "execution_count": null,
   "id": "6068e973",
   "metadata": {},
   "outputs": [],
   "source": [
    "model = BioHAN(data.metadata())\n",
    "model.reset_parameters()\n",
    "optimizer = torch.optim.Adam(model.parameters(), lr=0.01, weight_decay=5e-4)\n",
    "criterion =  torch.nn.BCEWithLogitsLoss() #change loss function"
   ]
  },
  {
   "cell_type": "code",
   "execution_count": null,
   "id": "64c59f95",
   "metadata": {},
   "outputs": [],
   "source": [
    "for epoch in range(1, 101):\n",
    "    loss = train_linkpre()\n",
    "    print(f'Epoch: {epoch:03d}, Loss: {loss:.4f}')"
   ]
  },
  {
   "cell_type": "code",
   "execution_count": null,
   "id": "95aa1be1",
   "metadata": {},
   "outputs": [],
   "source": [
    "roc_train = test_linkpre(train_link)\n",
    "roc_test = test_linkpre(test_link)\n",
    "print(f'Train AUROC: {roc_train:.4f}\\nTest AUROC: {roc_test:.4f}')"
   ]
  },
  {
   "cell_type": "markdown",
   "id": "570e8be8",
   "metadata": {},
   "source": [
    "### Exercise 0 - HeteroConv + GAT = HAN?"
   ]
  },
  {
   "cell_type": "markdown",
   "id": "ef770048",
   "metadata": {},
   "source": [
    "Can you implement HAN using just HeteroConv wrapper with GATConv as operator for each layer ? Why? Answer this question without implementing the architecture. Then, investigate how you can implement HAN using HeteroConv."
   ]
  },
  {
   "cell_type": "markdown",
   "id": "66923a51",
   "metadata": {},
   "source": [
    "### Exercise 1 - Node feature and expressiveness"
   ]
  },
  {
   "cell_type": "markdown",
   "id": "c63eeb62",
   "metadata": {},
   "source": [
    "In this notebook, we have a BioKG dataset without node feature.  \n",
    "We used a constant encoder to initialize node features. However, this kind of initialization limit the [expressive power of GNN](https://arxiv.org/abs/2112.09992) to 1-WL test for graph isomorphism (more precisely, to [1-RWL](https://arxiv.org/abs/2211.17113)). Change the node feature inizialization to be more expressive. \n",
    "\n",
    "For instance, consider these 3 following options:\n",
    "- Compute the [Local Degree Profile](https://pytorch-geometric.readthedocs.io/en/latest/generated/torch_geometric.transforms.LocalDegreeProfile.html#torch_geometric.transforms.LocalDegreeProfile).\n",
    "- Count graphlets (e.g. triangles) in which the nodes are involved.\n",
    "- Compute some well-know structural indices and centrality measures like PageRank, degree, average clustering coefficient. Networkx provides useful functions to compute structural features.\n",
    "\n"
   ]
  },
  {
   "cell_type": "markdown",
   "id": "dbd33f81",
   "metadata": {},
   "source": [
    "### Exercise 2 - Mean Reciprocal Rank"
   ]
  },
  {
   "cell_type": "markdown",
   "id": "5f355cbf",
   "metadata": {},
   "source": [
    "Beside AUPRC, a common evaluation metric used for link prediction in KG is the Mean Reciprocal Rank (MRR). \n",
    "Given a graph $G = (N,E)$, the computation behind MRR can be summarized in the following steps:\n",
    "- Compute the prediction score of a real edge $(i,j) \\in E$. (Standard forward GNN computation)\n",
    "- Given a real edge $(i,j)$ in the dataset, corrupt it $n$ times obtaining no existing edges $(i,k), k \\in N$. Be aware to not leak real edges from train to test set and viceversa(i.e. perform this step on the whole dataset before the train-test split).\n",
    "- Compute the prediction scores for corrupted edges.\n",
    "- Sort the corrupted edges plus the real edge by non increasing prediction score.\n",
    "- Compute the rank $r$ of the real edge in the sorted list.\n",
    "- Compute the reciprocal rank $\\frac{1}{r}$ of the real edge.\n",
    "- Repeat the previous steps for each real edge in the dataset.\n",
    "- Average the reciprocal ranks.\n",
    "\n",
    "Unfortunately, mean reciprocal rank on link prediction task is not available in PyG. Write a function to evaluate the prediction performance of BioRGCN with MRR. To corrupt the edges, you can use the function [structured_negative_sampling](https://pytorch-geometric.readthedocs.io/en/latest/modules/utils.html#torch_geometric.utils.structured_negative_sampling). It is sufficient to corrupt the edges one time."
   ]
  },
  {
   "cell_type": "markdown",
   "id": "3c70eeb9",
   "metadata": {},
   "source": [
    "### Exercise 3 - DistMult"
   ]
  },
  {
   "cell_type": "markdown",
   "id": "d4063576",
   "metadata": {},
   "source": [
    "Consider the problem of predicting protein-protein interactions (PPIs) in the given Biomedical KG. We can observe 8 different kinds of PPIs in the dataset. If we use the dot product as decoder, given two entities we obtain the same prediction score for each type of interaction. \n",
    "\n",
    "How we can distinguish the prediction scores of different interactions? Consider heterogeneity-aware decoders inspired by tensor decomposition techniques on KGs. One of the most famous tensor decomposition model for Knowledge Base Completion is [DistMult](https://arxiv.org/abs/1412.6575).\n",
    "\n",
    "Develop a DistMult decoder for PPI predictions. Consider the suggestions by Mathias Fey on a [Github thread](https://github.com/pyg-team/pytorch_geometric/discussions/2513) about DistMult on the PyG repository to implement it. \n",
    "\n",
    "Train a HeteroGNN model using the OGB-BIOKG dataset to solve the PPI prediction task. Evaluate the performance over all the PPIs (for instance, by averaging them)."
   ]
  }
 ],
 "metadata": {
  "kernelspec": {
   "display_name": "Python 3 (ipykernel)",
   "language": "python",
   "name": "python3"
  },
  "language_info": {
   "codemirror_mode": {
    "name": "ipython",
    "version": 3
   },
   "file_extension": ".py",
   "mimetype": "text/x-python",
   "name": "python",
   "nbconvert_exporter": "python",
   "pygments_lexer": "ipython3",
   "version": "3.9.7"
  }
 },
 "nbformat": 4,
 "nbformat_minor": 5
}
